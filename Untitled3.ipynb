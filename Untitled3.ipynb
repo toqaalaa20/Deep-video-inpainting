{
 "cells": [
  {
   "cell_type": "code",
   "execution_count": 13,
   "id": "6e8416a1",
   "metadata": {},
   "outputs": [],
   "source": [
    "import os\n",
    "import shutil"
   ]
  },
  {
   "cell_type": "code",
   "execution_count": 17,
   "id": "6a754c72",
   "metadata": {},
   "outputs": [],
   "source": [
    "data_dir = 'C:\\\\Users\\\\Toqaa\\\\Desktop\\\\New folder'"
   ]
  },
  {
   "cell_type": "code",
   "execution_count": 18,
   "id": "b2c002d5",
   "metadata": {},
   "outputs": [],
   "source": [
    "cnt=2731"
   ]
  },
  {
   "cell_type": "code",
   "execution_count": 19,
   "id": "d5bea9f7",
   "metadata": {},
   "outputs": [],
   "source": [
    "for img in os.listdir(data_dir):\n",
    "    img_path= os.path.join(data_dir, img)\n",
    "    os.rename(img_path, os.path.join(data_dir, f'img_{cnt}.jpg'))\n",
    "    cnt+=1;"
   ]
  },
  {
   "cell_type": "code",
   "execution_count": null,
   "id": "a303b8ca",
   "metadata": {},
   "outputs": [],
   "source": []
  }
 ],
 "metadata": {
  "kernelspec": {
   "display_name": "Python 3 (ipykernel)",
   "language": "python",
   "name": "python3"
  },
  "language_info": {
   "codemirror_mode": {
    "name": "ipython",
    "version": 3
   },
   "file_extension": ".py",
   "mimetype": "text/x-python",
   "name": "python",
   "nbconvert_exporter": "python",
   "pygments_lexer": "ipython3",
   "version": "3.9.0"
  }
 },
 "nbformat": 4,
 "nbformat_minor": 5
}
