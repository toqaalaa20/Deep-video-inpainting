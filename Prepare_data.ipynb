{
 "cells": [
  {
   "cell_type": "code",
   "execution_count": 29,
   "id": "46617fb8",
   "metadata": {},
   "outputs": [],
   "source": [
    "import os\n",
    "import shutil\n",
    "import cv2\n",
    "import numpy as np"
   ]
  },
  {
   "cell_type": "code",
   "execution_count": 2,
   "id": "6ce1a64b",
   "metadata": {},
   "outputs": [],
   "source": [
    "#Source and destination directories\n",
    "gt_dir= 'C:\\\\dataset2014\\\\dataset'\n",
    "input_dir= 'C:\\\\dataset2014\\\\results2'"
   ]
  },
  {
   "cell_type": "code",
   "execution_count": 3,
   "id": "c497bdf9",
   "metadata": {},
   "outputs": [],
   "source": [
    "#Source and destination directories\n",
    "out_dir_in= 'C:\\\\dataset\\\\input'\n",
    "out_dir_gt= 'C:\\\\dataset\\\\gt'"
   ]
  },
  {
   "cell_type": "code",
   "execution_count": 4,
   "id": "5a2428f9",
   "metadata": {},
   "outputs": [],
   "source": [
    "categories= ['badWeather', 'baseline', 'cameraJitter']"
   ]
  },
  {
   "cell_type": "code",
   "execution_count": 10,
   "id": "677ff905",
   "metadata": {},
   "outputs": [],
   "source": [
    "cnt=1"
   ]
  },
  {
   "cell_type": "code",
   "execution_count": 6,
   "id": "a01f2e43",
   "metadata": {},
   "outputs": [],
   "source": [
    "for category in categories:\n",
    "    categ_path= os.path.join(input_dir, category)\n",
    "    for category2 in os.listdir(categ_path):\n",
    "        categ2_path= os.path.join(categ_path, category2)\n",
    "        if (category2!= 'wetSnow'):\n",
    "            for i in range(900, 1000):\n",
    "                img_path= os.path.join(categ2_path, f'in000{i}.jpg')\n",
    "                save_path= os.path.join(out_dir_in, f'img_{cnt}.jpg')\n",
    "                shutil.copy(img_path, save_path)\n",
    "                cnt+=1\n",
    "    "
   ]
  },
  {
   "cell_type": "code",
   "execution_count": 11,
   "id": "c3b73fce",
   "metadata": {},
   "outputs": [],
   "source": [
    "for category in categories:\n",
    "    categ_path= os.path.join(gt_dir, category)\n",
    "    for category2 in os.listdir(categ_path):\n",
    "        categ2_path= os.path.join(categ_path, category2)\n",
    "        if (category2!= 'wetSnow'):\n",
    "            gt_path= os.path.join(categ2_path, 'groundtruth')\n",
    "            for i in range(900, 1000):\n",
    "                img_path= os.path.join(gt_path, f'gt000{i}.png')\n",
    "                save_path= os.path.join(out_dir_gt, f'img_{cnt}.png')\n",
    "                shutil.copy(img_path, save_path)\n",
    "                cnt+=1\n",
    "    "
   ]
  },
  {
   "cell_type": "code",
   "execution_count": 41,
   "id": "1447342a",
   "metadata": {},
   "outputs": [],
   "source": [
    "y_path= 'C:\\\\dataset\\\\y'\n"
   ]
  },
  {
   "cell_type": "code",
   "execution_count": 42,
   "id": "6a04b45a",
   "metadata": {},
   "outputs": [],
   "source": [
    "def produce_y():\n",
    "    cnt=1\n",
    "    for category in categories:\n",
    "        categ_path= os.path.join(input_dir, category)\n",
    "        for category2 in os.listdir(categ_path):\n",
    "            categ2_path= os.path.join(categ_path, category2)\n",
    "            if (category2!= 'wetSnow'):\n",
    "                lst= []\n",
    "                for img in os.listdir(categ2_path):\n",
    "                    img_path= os.path.join(categ2_path, img)\n",
    "                    img= cv2.imread(img_path)\n",
    "                    lst.append(img)\n",
    "                median_image = np.median(lst, axis=0).astype(dtype=np.uint8)\n",
    "                print(f'finished {category2}')\n",
    "                for i in range(900, 1000):\n",
    "                    median_path= os.path.join(y_path, f'img_{cnt}.jpg')\n",
    "                    cv2.imwrite(median_path, median_image)\n",
    "                    cnt+=1"
   ]
  },
  {
   "cell_type": "code",
   "execution_count": 43,
   "id": "10eaf6cb",
   "metadata": {},
   "outputs": [
    {
     "name": "stdout",
     "output_type": "stream",
     "text": [
      "finished blizzard\n",
      "finished skating\n",
      "finished snowFall\n",
      "finished highway\n",
      "finished office\n",
      "finished pedestrians\n",
      "finished PETS2006\n",
      "finished badminton\n",
      "finished boulevard\n",
      "finished sidewalk\n",
      "finished traffic\n"
     ]
    }
   ],
   "source": [
    "produce_y()"
   ]
  },
  {
   "cell_type": "code",
   "execution_count": null,
   "id": "56d76f20",
   "metadata": {},
   "outputs": [],
   "source": []
  }
 ],
 "metadata": {
  "kernelspec": {
   "display_name": "Python 3 (ipykernel)",
   "language": "python",
   "name": "python3"
  },
  "language_info": {
   "codemirror_mode": {
    "name": "ipython",
    "version": 3
   },
   "file_extension": ".py",
   "mimetype": "text/x-python",
   "name": "python",
   "nbconvert_exporter": "python",
   "pygments_lexer": "ipython3",
   "version": "3.11.4"
  }
 },
 "nbformat": 4,
 "nbformat_minor": 5
}
