{
 "cells": [
  {
   "cell_type": "code",
   "execution_count": 1,
   "id": "7be33526",
   "metadata": {},
   "outputs": [],
   "source": [
    "import os\n",
    "import cv2"
   ]
  },
  {
   "cell_type": "code",
   "execution_count": 2,
   "id": "f40a24a7",
   "metadata": {},
   "outputs": [],
   "source": [
    "data_dir= 'C:\\\\dataset2014\\\\results2\\\\baseline\\\\highway'\n",
    "frames= []"
   ]
  },
  {
   "cell_type": "code",
   "execution_count": 3,
   "id": "0ed71504",
   "metadata": {},
   "outputs": [],
   "source": [
    "for frame in os.listdir(data_dir):\n",
    "    frame_path= os.path.join(data_dir, frame)\n",
    "    frame= cv2.imread(frame_path)\n",
    "    frames.append(frame)"
   ]
  },
  {
   "cell_type": "code",
   "execution_count": 4,
   "id": "ba783741",
   "metadata": {},
   "outputs": [],
   "source": [
    "output_file = 'output_video.mp4'\n",
    "fourcc = cv2.VideoWriter_fourcc(*'mp4v')  # Codec for MP4\n",
    "frame_rate = 30  # Adjust this to your desired frame rate\n",
    "width, height = frames[0].shape[1], frames[0].shape[0]  # Use dimensions from the first frame\n",
    "\n",
    "# Create VideoWriter object\n",
    "out = cv2.VideoWriter(output_file, fourcc, frame_rate, (width, height))\n",
    "\n",
    "# Loop through the array of frames and write them to the video\n",
    "for frame in frames:\n",
    "    out.write(frame)\n",
    "\n",
    "# Release the VideoWriter\n",
    "out.release()\n",
    "\n",
    "# Optionally, you can also destroy any OpenCV windows that might be open\n",
    "cv2.destroyAllWindows()"
   ]
  },
  {
   "cell_type": "code",
   "execution_count": null,
   "id": "4f9a01f1",
   "metadata": {},
   "outputs": [],
   "source": []
  }
 ],
 "metadata": {
  "kernelspec": {
   "display_name": "Python 3 (ipykernel)",
   "language": "python",
   "name": "python3"
  },
  "language_info": {
   "codemirror_mode": {
    "name": "ipython",
    "version": 3
   },
   "file_extension": ".py",
   "mimetype": "text/x-python",
   "name": "python",
   "nbconvert_exporter": "python",
   "pygments_lexer": "ipython3",
   "version": "3.9.0"
  }
 },
 "nbformat": 4,
 "nbformat_minor": 5
}
